{
 "cells": [
  {
   "cell_type": "markdown",
   "id": "0b12e7c4",
   "metadata": {},
   "source": [
    "# Speech Recognition using Google Speech API\n",
    "\n",
    "- [Python Tutorials. Speech Recognition using Google Speech API](https://pythonspot.com/speech-recognition-using-google-speech-api/)"
   ]
  },
  {
   "cell_type": "code",
   "execution_count": 22,
   "id": "bdd50e24",
   "metadata": {},
   "outputs": [],
   "source": [
    "import speech_recognition as sr"
   ]
  },
  {
   "cell_type": "code",
   "execution_count": 23,
   "id": "48260d0c",
   "metadata": {},
   "outputs": [],
   "source": [
    "r = sr.Recognizer()"
   ]
  },
  {
   "cell_type": "code",
   "execution_count": 24,
   "id": "ab06afa3",
   "metadata": {
    "scrolled": true
   },
   "outputs": [
    {
     "data": {
      "text/plain": [
       "'\\nwith sr.Microphone() as source:\\n    print(\"Say Something : \")\\n    audio = r.listen(source)\\n    try:\\n        text = r.recognize_google(audio, language=\\'ko-KR\\')\\n        print(\"You Said : {}\".format(text))\\n    except:\\n        print(\"Sorry could not recognize\")\\n'"
      ]
     },
     "execution_count": 24,
     "metadata": {},
     "output_type": "execute_result"
    }
   ],
   "source": [
    "\"\"\"\n",
    "with sr.Microphone() as source:\n",
    "    print(\"Say Something : \")\n",
    "    audio = r.listen(source)\n",
    "    try:\n",
    "        text = r.recognize_google(audio, language='ko-KR')\n",
    "        print(\"You Said : {}\".format(text))\n",
    "    except:\n",
    "        print(\"Sorry could not recognize\")\n",
    "\"\"\"        "
   ]
  },
  {
   "cell_type": "code",
   "execution_count": null,
   "id": "342bae45",
   "metadata": {},
   "outputs": [
    {
     "name": "stdout",
     "output_type": "stream",
     "text": [
      "Say Something : \n",
      "Sorry could not recognize\n",
      "Say Something : \n",
      "Sorry could not recognize\n",
      "Say Something : \n",
      "Sorry could not recognize\n",
      "Say Something : \n",
      "Sorry could not recognize\n",
      "Say Something : \n",
      "You Said : 다행히 항공편을 오늘 모두 정상 운행하였습니다 다만 바닷길은 모두 맡겼습니다 제주지역 전 회장의 풍랑특보가 발효가 되어 있기 때문에 여객선 운행이 모두 막힌 겁니다 다만 태풍이 보다 좀 더 가까워지게 되면 항공편 운항도 차질이 생길 것으로 보입니다\n",
      "Say Something : \n"
     ]
    }
   ],
   "source": [
    "text = ''\n",
    "triggerWord = '맵피'\n",
    "trigger = False\n",
    "\n",
    "while (True):\n",
    "    with sr.Microphone() as source:\n",
    "        print(\"Say Something : \")\n",
    "        audio = r.listen(source)\n",
    "        try:\n",
    "            text = r.recognize_google(audio, language='ko-KR')\n",
    "            print(\"You Said : {}\".format(text))\n",
    "        except:\n",
    "            print(\"Sorry could not recognize\")\n",
    "        \n",
    "    if triggerWord in text:\n",
    "        trigger = True\n",
    "        print(\"triggered\")\n",
    "        break\n",
    "\n",
    "print(\"End loop\")"
   ]
  },
  {
   "cell_type": "code",
   "execution_count": null,
   "id": "43debb12",
   "metadata": {},
   "outputs": [],
   "source": []
  }
 ],
 "metadata": {
  "kernelspec": {
   "display_name": "Python 3",
   "language": "python",
   "name": "python3"
  },
  "language_info": {
   "codemirror_mode": {
    "name": "ipython",
    "version": 3
   },
   "file_extension": ".py",
   "mimetype": "text/x-python",
   "name": "python",
   "nbconvert_exporter": "python",
   "pygments_lexer": "ipython3",
   "version": "3.8.5"
  }
 },
 "nbformat": 4,
 "nbformat_minor": 5
}
