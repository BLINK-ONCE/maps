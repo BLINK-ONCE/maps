{
 "cells": [
  {
   "cell_type": "markdown",
   "id": "0b12e7c4",
   "metadata": {},
   "source": [
    "# Speech Recognition using Google Speech API\n",
    "\n",
    "- [Python Tutorials. Speech Recognition using Google Speech API](https://pythonspot.com/speech-recognition-using-google-speech-api/)"
   ]
  },
  {
   "cell_type": "code",
   "execution_count": 1,
   "id": "bdd50e24",
   "metadata": {},
   "outputs": [],
   "source": [
    "import speech_recognition as sr"
   ]
  },
  {
   "cell_type": "code",
   "execution_count": 2,
   "id": "48260d0c",
   "metadata": {},
   "outputs": [],
   "source": [
    "r = sr.Recognizer()"
   ]
  },
  {
   "cell_type": "code",
   "execution_count": 3,
   "id": "ab06afa3",
   "metadata": {
    "scrolled": true
   },
   "outputs": [
    {
     "data": {
      "text/plain": [
       "'\\nwith sr.Microphone() as source:\\n    print(\"Say Something : \")\\n    audio = r.listen(source)\\n    try:\\n        text = r.recognize_google(audio, language=\\'ko-KR\\')\\n        print(\"You Said : {}\".format(text))\\n    except:\\n        print(\"Sorry could not recognize\")\\n'"
      ]
     },
     "execution_count": 3,
     "metadata": {},
     "output_type": "execute_result"
    }
   ],
   "source": [
    "\"\"\"\n",
    "with sr.Microphone() as source:\n",
    "    print(\"Say Something : \")\n",
    "    audio = r.listen(source)\n",
    "    try:\n",
    "        text = r.recognize_google(audio, language='ko-KR')\n",
    "        print(\"You Said : {}\".format(text))\n",
    "    except:\n",
    "        print(\"Sorry could not recognize\")\n",
    "\"\"\"        "
   ]
  },
  {
   "cell_type": "code",
   "execution_count": 4,
   "id": "342bae45",
   "metadata": {},
   "outputs": [
    {
     "name": "stdout",
     "output_type": "stream",
     "text": [
      "Say Something : \n",
      "You Said : 다시 꼈습니다 뭐가 어떻게 달라졌는지 오늘 새로 나온 내용들 자세하게 찍어 드리겠습니다\n",
      "Say Something : \n",
      "You Said : 의정부 소등하는 서울중앙지검이 특별수사팀을 뿌렸습니다\n",
      "Say Something : \n",
      "Sorry could not recognize\n",
      "Say Something : \n",
      "You Said : 맵피\n",
      "triggered\n",
      "End loop\n"
     ]
    }
   ],
   "source": [
    "text = ''\n",
    "triggerWord = '맵피'\n",
    "trigger = False\n",
    "\n",
    "while (True):\n",
    "    with sr.Microphone() as source:\n",
    "        print(\"Say Something : \")\n",
    "        audio = r.listen(source)\n",
    "        try:\n",
    "            text = r.recognize_google(audio, language='ko-KR')\n",
    "            print(\"You Said : {}\".format(text))\n",
    "        except:\n",
    "            print(\"Sorry could not recognize\")\n",
    "        \n",
    "    if triggerWord in text:\n",
    "        trigger = True\n",
    "        print(\"triggered\")\n",
    "        break\n",
    "\n",
    "print(\"End loop\")"
   ]
  },
  {
   "cell_type": "code",
   "execution_count": null,
   "id": "e34ec950",
   "metadata": {},
   "outputs": [],
   "source": []
  }
 ],
 "metadata": {
  "kernelspec": {
   "display_name": "Python 3 (ipykernel)",
   "language": "python",
   "name": "python3"
  },
  "language_info": {
   "codemirror_mode": {
    "name": "ipython",
    "version": 3
   },
   "file_extension": ".py",
   "mimetype": "text/x-python",
   "name": "python",
   "nbconvert_exporter": "python",
   "pygments_lexer": "ipython3",
   "version": "3.9.7"
  }
 },
 "nbformat": 4,
 "nbformat_minor": 5
}
