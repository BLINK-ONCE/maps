{
 "cells": [
  {
   "cell_type": "markdown",
   "id": "0b12e7c4",
   "metadata": {},
   "source": [
    "# Speech Recognition using Google Speech API\n",
    "\n",
    "- [Python Tutorials. Speech Recognition using Google Speech API](https://pythonspot.com/speech-recognition-using-google-speech-api/)"
   ]
  },
  {
   "cell_type": "code",
   "execution_count": 1,
   "id": "bdd50e24",
   "metadata": {},
   "outputs": [],
   "source": [
    "import speech_recognition as sr"
   ]
  },
  {
   "cell_type": "code",
   "execution_count": 2,
   "id": "48260d0c",
   "metadata": {},
   "outputs": [],
   "source": [
    "r = sr.Recognizer()"
   ]
  },
  {
   "cell_type": "code",
   "execution_count": 8,
   "id": "ab06afa3",
   "metadata": {},
   "outputs": [
    {
     "name": "stdout",
     "output_type": "stream",
     "text": [
      "Say Something : \n",
      "You Said : 매피 가이 말 을 알아들을 수 있을까\n"
     ]
    }
   ],
   "source": [
    "with sr.Microphone() as source:\n",
    "    print(\"Say Something : \")\n",
    "    audio = r.listen(source)\n",
    "    try:\n",
    "        text = r.recognize_google(audio, language='ko-KR')\n",
    "        print(\"You Said : {}\".format(text))\n",
    "    except:\n",
    "        print(\"Sorry could not recognize\")"
   ]
  },
  {
   "cell_type": "code",
   "execution_count": null,
   "id": "342bae45",
   "metadata": {},
   "outputs": [],
   "source": []
  }
 ],
 "metadata": {
  "kernelspec": {
   "display_name": "Python 3",
   "language": "python",
   "name": "python3"
  },
  "language_info": {
   "codemirror_mode": {
    "name": "ipython",
    "version": 3
   },
   "file_extension": ".py",
   "mimetype": "text/x-python",
   "name": "python",
   "nbconvert_exporter": "python",
   "pygments_lexer": "ipython3",
   "version": "3.8.5"
  }
 },
 "nbformat": 4,
 "nbformat_minor": 5
}
